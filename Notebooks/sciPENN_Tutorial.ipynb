{
 "cells": [
  {
   "cell_type": "code",
   "execution_count": 1,
   "metadata": {},
   "outputs": [
    {
     "ename": "ModuleNotFoundError",
     "evalue": "No module named 'sciPENN'",
     "output_type": "error",
     "traceback": [
      "\u001b[0;31m---------------------------------------------------------------------------\u001b[0m",
      "\u001b[0;31mModuleNotFoundError\u001b[0m                       Traceback (most recent call last)",
      "Cell \u001b[0;32mIn[1], line 24\u001b[0m\n\u001b[1;32m     21\u001b[0m \u001b[38;5;28;01mfrom\u001b[39;00m \u001b[38;5;21;01mtorch\u001b[39;00m \u001b[38;5;28;01mimport\u001b[39;00m tensor\n\u001b[1;32m     22\u001b[0m \u001b[38;5;28;01mfrom\u001b[39;00m \u001b[38;5;21;01mtorch\u001b[39;00m\u001b[38;5;21;01m.\u001b[39;00m\u001b[38;5;21;01mcuda\u001b[39;00m \u001b[38;5;28;01mimport\u001b[39;00m is_available\n\u001b[0;32m---> 24\u001b[0m \u001b[38;5;28;01mfrom\u001b[39;00m \u001b[38;5;21;01msciPENN\u001b[39;00m\u001b[38;5;21;01m.\u001b[39;00m\u001b[38;5;21;01msciPENN_API\u001b[39;00m \u001b[38;5;28;01mimport\u001b[39;00m sciPENN_API\n",
      "\u001b[0;31mModuleNotFoundError\u001b[0m: No module named 'sciPENN'"
     ]
    }
   ],
   "source": [
    "%load_ext autoreload\n",
    "%autoreload 2\n",
    "\n",
    "import numpy as npa\n",
    "from matplotlib import pyplot\n",
    "import os\n",
    "from copy import deepcopy\n",
    "\n",
    "from time import time\n",
    "\n",
    "from math import ceil\n",
    "from scipy.stats import spearmanr, gamma, poisson\n",
    "import scipy.sparse as sp\n",
    "\n",
    "from anndata import AnnData, read_h5ad\n",
    "import scanpy as sc\n",
    "from scanpy import read\n",
    "import pandas as pd\n",
    "\n",
    "from torch.utils.data import DataLoader, TensorDataset\n",
    "from torch import tensor\n",
    "from torch.cuda import is_available\n",
    "\n",
    "from sciPENN.sciPENN_API import sciPENN_API"
   ]
  },
  {
   "cell_type": "code",
   "execution_count": null,
   "metadata": {},
   "outputs": [],
   "source": [
    "sc.settings.verbosity = 3  # verbosity: errors (0), warnings (1), info (2), hints (3)\n",
    "sc.logging.print_header()\n",
    "sc.settings.set_figure_params(dpi=80, facecolor=\"white\")"
   ]
  },
  {
   "cell_type": "code",
   "execution_count": null,
   "metadata": {},
   "outputs": [],
   "source": []
  },
  {
   "cell_type": "code",
   "execution_count": null,
   "metadata": {},
   "outputs": [],
   "source": [
    "\"\"\"Read in Raw Data\"\"\"\n",
    "adata_gene = sc.read_csv('GSE100866_PBMC_vs_flow_10X-RNA_umi.csv').transpose()\n",
    "adata_protein = sc.read_csv('GSE100866_PBMC_vs_flow_10X-ADT_umi.csv').transpose()"
   ]
  },
  {
   "cell_type": "code",
   "execution_count": null,
   "metadata": {},
   "outputs": [],
   "source": [
    "GSM_Gene_8737 = pd.DataFrame(fmm.mmread('GSM5008737/matrix.mtx.gz').toarray().transpose())\n",
    "cellNames = pd.DataFrame(pd.read_csv('GSM5008737/barcodes.tsv.gz',index_col=0,sep='\\t',header=None))\n",
    "geneNames = pd.DataFrame(pd.read_csv('GSM5008737/features.tsv.gz',index_col=0,sep='\\t',header=None))\n",
    "GSM_Gene_8737.columns = geneNames.iloc[:,0]\n",
    "GSM_Gene_8737.index = cellNames.index"
   ]
  },
  {
   "cell_type": "code",
   "execution_count": null,
   "metadata": {},
   "outputs": [],
   "source": [
    "GSM_Protein_8738 = pd.DataFrame(fmm.mmread('GSM5008738/matrix.mtx.gz').toarray().transpose())\n",
    "cellNames_pro = pd.DataFrame(pd.read_csv('GSM5008738/barcodes.tsv.gz',index_col=0,sep='\\t',header=None))\n",
    "SurfaceProtein = pd.DataFrame(pd.read_csv('GSM5008738/features.tsv.gz',index_col=0,sep='\\t',header=None))\n",
    "GSM_Protein_8738.columns = SurfaceProtein.iloc[:,0]\n",
    "GSM_Protein_8738.index = cellNames_pro.index"
   ]
  },
  {
   "cell_type": "code",
   "execution_count": null,
   "metadata": {},
   "outputs": [],
   "source": [
    "adata_gene.var[\"mt\"] = adata_gene.var_names.str.startswith(\"MOUSE_\")\n",
    "adata_gene_filter = adata_gene[:,~adata_gene.var[\"mt\"]]\n"
   ]
  },
  {
   "cell_type": "code",
   "execution_count": null,
   "metadata": {},
   "outputs": [],
   "source": [
    "np.random.seed(42)\n",
    "selected_cells = np.random.choice(adata_gene_filter.n_obs, size=6388, replace=False)\n",
    "remaining_cells = np.setdiff1d(np.arange(adata_gene_filter.n_obs), selected_cells)\n",
    "adata_gene_train_8737 = adata_gene_filter[selected_cells].copy()\n",
    "adata_gene_test_8737 = adata_gene_filter[remaining_cells].copy()"
   ]
  },
  {
   "cell_type": "code",
   "execution_count": null,
   "metadata": {},
   "outputs": [],
   "source": [
    "adata_gene_train_8737.X = adata_gene_train_8737.X.astype(int)\n",
    "adata_gene_train_8737.to_df()"
   ]
  },
  {
   "cell_type": "code",
   "execution_count": null,
   "metadata": {},
   "outputs": [],
   "source": [
    "adata_gene_test_8737.X = adata_gene_test_8737.X.astype(int)\n",
    "adata_gene_test_8737.to_df()"
   ]
  },
  {
   "cell_type": "code",
   "execution_count": null,
   "metadata": {},
   "outputs": [],
   "source": [
    "np.random.seed(42)\n",
    "selected_cells = np.random.choice(adata_protein.n_obs, size=6388, replace=False)\n",
    "remaining_cells_pro = np.setdiff1d(np.arange(adata_protein.n_obs), selected_cells)\n",
    "adata_protein_train_8783 = adata_protein[selected_cells].copy()\n",
    "adata_protein_test_8783 = adata_protein[remaining_cells_pro].copy()"
   ]
  },
  {
   "cell_type": "code",
   "execution_count": null,
   "metadata": {},
   "outputs": [],
   "source": [
    "adata_protein_train_8783.X = adata_protein_train_8783.X.astype(int)\n",
    "adata_protein_train_8783.to_df()"
   ]
  },
  {
   "cell_type": "markdown",
   "metadata": {},
   "source": [
    "## Scenario 1: Training CITE-seq, Test scRNA-seq"
   ]
  },
  {
   "cell_type": "markdown",
   "metadata": {},
   "source": [
    "For this scenario, we designate patients P1, P3, P4, P7 as the training data. The other patients are treated as an scRNA-seq test set (proteins are held out)."
   ]
  },
  {
   "cell_type": "code",
   "execution_count": null,
   "metadata": {},
   "outputs": [],
   "source": [
    "\"\"\"Create training and test\"\"\"\n",
    "\n",
    "train_bool = [x in ['P1', 'P3', 'P4', 'P7'] for x in adata_gene.obs['donor']]\n",
    "\n",
    "adata_gene_train = adata_gene[train_bool].copy()\n",
    "adata_protein_train = adata_protein[train_bool].copy()\n",
    "adata_gene_test = adata_gene[np.invert(train_bool)].copy()"
   ]
  },
  {
   "cell_type": "markdown",
   "metadata": {},
   "source": [
    "Create the sciPENN object. Since we only have a single CITE-seq reference, we provide only a single gene training set (represented by the list of length 1 passed to gene_trainsets) and a single protein training set (represented by the list of length 1 passed to protein_trainsets). \n",
    "\n",
    "The key used to identify batches is 'donor' for both the CITE-seq reference and the scRNA-seq query, so we pass this key to both the train_batchkeys argument and the test_batchkey argument.\n",
    "\n",
    "Lastly, we also want to transfer celltype labels from CITE-seq reference to query. The celltypes in the CITE-seq reference are identified by the obs key \"celltype.l3\", so we supply this string to the type_key argument."
   ]
  },
  {
   "cell_type": "code",
   "execution_count": null,
   "metadata": {
    "scrolled": true
   },
   "outputs": [],
   "source": [
    "sciPENN = sciPENN_API(gene_trainsets = [adata_gene_train], protein_trainsets = [adata_protein_train], \n",
    "                      gene_test = adata_gene_test, train_batchkeys = ['donor'], test_batchkey = 'donor', \n",
    "                      type_key = 'celltype.l3')"
   ]
  },
  {
   "cell_type": "code",
   "execution_count": null,
   "metadata": {},
   "outputs": [],
   "source": [
    "\n",
    "\n",
    "# Filter mitochondrial genes\n",
    "adata_gene.var[\"mt\"] = adata_gene.var_names.str.startswith(\"MOUSE_\")\n",
    "adata_gene_filter = adata_gene[:, ~adata_gene.var[\"mt\"]]\n",
    "\n",
    "# Split data into training and testing sets for gene data\n",
    "np.random.seed(42)\n",
    "selected_cells_gene = np.random.choice(adata_gene_filter.n_obs, size=6388, replace=False)\n",
    "remaining_cells_gene = np.setdiff1d(np.arange(adata_gene_filter.n_obs), selected_cells_gene)\n",
    "adata_gene_train_8737 = adata_gene_filter[selected_cells_gene].copy()\n",
    "adata_gene_test_8737 = adata_gene_filter[remaining_cells_gene].copy()\n",
    "\n",
    "# Ensure data is of integer type\n",
    "adata_gene_train_8737.X = adata_gene_train_8737.X.astype(int)\n",
    "adata_gene_test_8737.X = adata_gene_test_8737.X.astype(int)\n",
    "\n",
    "# Split data into training and testing sets for protein data\n",
    "np.random.seed(42)\n",
    "selected_cells_protein = np.random.choice(adata_protein.n_obs, size=6388, replace=False)\n",
    "remaining_cells_protein = np.setdiff1d(np.arange(adata_protein.n_obs), selected_cells_protein)\n",
    "adata_protein_train_8783 = adata_protein[selected_cells_protein].copy()\n",
    "adata_protein_test_8783 = adata_protein[remaining_cells_protein].copy()\n",
    "\n",
    "# Ensure data is of integer type\n",
    "adata_protein_train_8783.X = adata_protein_train_8783.X.astype(int)\n",
    "\n",
    "# Debugging: Print shapes and types to ensure correctness\n",
    "print(f'Gene train shape: {adata_gene_train_8737.shape}, type: {adata_gene_train_8737.X.dtype}')\n",
    "print(f'Gene test shape: {adata_gene_test_8737.shape}, type: {adata_gene_test_8737.X.dtype}')\n",
    "print(f'Protein train shape: {adata_protein_train_8783.shape}, type: {adata_protein_train_8783.X.dtype}')\n",
    "\n",
    "\n",
    "\n"
   ]
  },
  {
   "cell_type": "code",
   "execution_count": null,
   "metadata": {},
   "outputs": [],
   "source": [
    "sciPENN = sciPENN_API(gene_trainsets = [adata_gene_train_8737], protein_trainsets = [adata_protein_train_8783], \n",
    "                      gene_test = adata_gene_test_8737)"
   ]
  },
  {
   "cell_type": "markdown",
   "metadata": {},
   "source": [
    "Train the sciPENN object. Here, we ask the model to estimate quantiles 0.1, 0.25, 0.75, and 0.9. The weights directory is \"pbmc_to_pbmc\""
   ]
  },
  {
   "cell_type": "code",
   "execution_count": null,
   "metadata": {},
   "outputs": [],
   "source": [
    "sciPENN"
   ]
  },
  {
   "cell_type": "code",
   "execution_count": null,
   "metadata": {},
   "outputs": [],
   "source": [
    "sciPENN.train(quantiles = [0.1, 0.25, 0.75, 0.9], n_epochs = 10000, ES_max = 12, decay_max = 6, \n",
    "             decay_step = 0.1, lr = 10**(-3), weights_dir = \"pbmc_to_pbmc\", load = True)"
   ]
  },
  {
   "cell_type": "markdown",
   "metadata": {},
   "source": [
    "Use the predict method to predict protein expression and celltype labels in the scRNA-seq test dataset."
   ]
  },
  {
   "cell_type": "code",
   "execution_count": null,
   "metadata": {},
   "outputs": [],
   "source": [
    "predicted_test = sciPENN.predict()"
   ]
  },
  {
   "cell_type": "markdown",
   "metadata": {},
   "source": [
    "The predicted protein data is accessible via attribute X."
   ]
  },
  {
   "cell_type": "code",
   "execution_count": null,
   "metadata": {},
   "outputs": [],
   "source": [
    "predicted_test.X"
   ]
  },
  {
   "cell_type": "markdown",
   "metadata": {},
   "source": [
    "Use the 'batch' cell metadata field to see which batch a cell is from. E.g. the batch information 'DS-Test P5' means the corresponding cell is from batch P5 of the query dataset."
   ]
  },
  {
   "cell_type": "code",
   "execution_count": null,
   "metadata": {
    "scrolled": true
   },
   "outputs": [],
   "source": [
    "predicted_test.obs['batch']"
   ]
  },
  {
   "cell_type": "markdown",
   "metadata": {},
   "source": [
    "Use the 'transfered cell labels' cell metadata field to see the predicted celltype for each cell. We actually know the true celltype label in this case (found in celltype.l3) so we can view the test accuracy of predictions."
   ]
  },
  {
   "cell_type": "code",
   "execution_count": null,
   "metadata": {},
   "outputs": [],
   "source": [
    "print(predicted_test.obs['transfered cell labels'])\n",
    "print(f\"\\n\\n\\nTest set accuracy: {(predicted_test.obs['transfered cell labels'] == predicted_test.obs['celltype.l3']).mean():.4f}\")"
   ]
  },
  {
   "cell_type": "markdown",
   "metadata": {},
   "source": [
    "Use the embed command to estimate a lower-dimension latent representation of the data. Both the CITE-seq reference and scRNA-seq query are embedded into a common latent space, which can be further dimension reduced and visualized using UMAP."
   ]
  },
  {
   "cell_type": "code",
   "execution_count": null,
   "metadata": {},
   "outputs": [],
   "source": [
    "embedding = sciPENN.embed()"
   ]
  },
  {
   "cell_type": "markdown",
   "metadata": {},
   "source": [
    "The embedding is accessible via attribute X."
   ]
  },
  {
   "cell_type": "code",
   "execution_count": null,
   "metadata": {},
   "outputs": [],
   "source": [
    "predicted_test.X"
   ]
  },
  {
   "cell_type": "markdown",
   "metadata": {},
   "source": [
    "Use the 'batch' cell metadata field to see which dataset and batch a cell is from. E.g. the batch information 'DS-Test P5' means the corresponding cell is from batch P5 of the query dataset. 'DS-1 P4' means the corresponding cell is from batch P4 of the first CITE-seq reference."
   ]
  },
  {
   "cell_type": "code",
   "execution_count": null,
   "metadata": {},
   "outputs": [],
   "source": [
    "embedding.obs['batch']"
   ]
  },
  {
   "cell_type": "markdown",
   "metadata": {},
   "source": [
    "View estimated quantiles of the data. We estimate a quantile for every protein in every cell, so each of these layers is an array whose rows index cells and columns index proteins."
   ]
  },
  {
   "cell_type": "code",
   "execution_count": null,
   "metadata": {},
   "outputs": [],
   "source": [
    "q25 = predicted_test.layers['q25']\n",
    "q75 = predicted_test.layers['q75']\n",
    "q10 = predicted_test.layers['q10']\n",
    "q90 = predicted_test.layers['q90']"
   ]
  },
  {
   "cell_type": "markdown",
   "metadata": {},
   "source": [
    "## Scenario 2: Integrate two CITE-seq datasets"
   ]
  },
  {
   "cell_type": "markdown",
   "metadata": {},
   "source": [
    "For this scenario, we integrate two separate CITE-seq datasets. The first consists of patients P1, P3, P4, P7, and the other CITE-seq dataset contains other patients. We use sciPENN to handle the case where the protein panels of the two CITE-seq datasets are not identical. Some proteins are availible in only one CITE-seq dataset, other proteins are availible only in the other dataset. The goal here is to recover the missing proteins in each dataset so that the two CITE-seq datasets can be merged"
   ]
  },
  {
   "cell_type": "code",
   "execution_count": null,
   "metadata": {},
   "outputs": [],
   "source": [
    "\"\"\"Create training and test\"\"\"\n",
    "\n",
    "train_bool = [x in ['P1', 'P3', 'P4', 'P7'] for x in adata_gene.obs['donor']]\n",
    "\n",
    "adata_gene_set1 = adata_gene[train_bool].copy()\n",
    "adata_protein_set1 = adata_protein[train_bool].copy()\n",
    "adata_gene_set2 = adata_gene[np.invert(train_bool)].copy()\n",
    "adata_protein_set2 = adata_protein[np.invert(train_bool)].copy()\n",
    "\n",
    "common_proteins = adata_protein_train.var.index\n",
    "set1only_proteins = np.random.choice(common_proteins, len(common_proteins)//3, False)\n",
    "common_proteins = np.setdiff1d(common_proteins, set1only_proteins)\n",
    "set2only_proteins = np.random.choice(common_proteins, len(common_proteins)//2, False)\n",
    "\n",
    "set1only_proteins = set(set1only_proteins)\n",
    "set2only_proteins = set(set2only_proteins)\n",
    "\n",
    "keep_set1 = [x not in set2only_proteins for x in adata_protein_train.var.index]\n",
    "keep_set2 = [x not in set1only_proteins for x in adata_protein_train.var.index]\n",
    "\n",
    "adata_protein_set1 = adata_protein_set1[:, keep_set1].copy()\n",
    "adata_protein_set2 = adata_protein_set2[:, keep_set2].copy()"
   ]
  },
  {
   "cell_type": "markdown",
   "metadata": {},
   "source": [
    "Create the sciPENN object. Since we two CITE-seq references and no scRNA-seq query set this time, we provide two gene training sets (one for each CITE-seq reference) and a two protein training sets (the corrresponding protein arrays of the two CITE-seq references). Since we have no scRNA-seq query set, do not provide a gene_test argument.\n",
    "\n",
    "Since we have two CITE-seq references, we need to provide a list of two batch keys for the train_batchkeys argument, which lists the batchkeys for each of the two references. Since the batchkey is 'donor' for both datasets, the two entries in the list are both \"donor\". Since we have no query scRNA-seq dataset, do not provide a test_batchkey argument.\n",
    "\n",
    "For this scenario, we do not want to transfer celltype labels from CITE-seq reference to query. The celltypes is not provided."
   ]
  },
  {
   "cell_type": "code",
   "execution_count": null,
   "metadata": {
    "scrolled": true
   },
   "outputs": [],
   "source": [
    "sciPENN = sciPENN_API(gene_trainsets = [adata_gene_set1, adata_gene_set2], \n",
    "                      protein_trainsets = [adata_protein_set1, adata_protein_set2], \n",
    "                      train_batchkeys = ['donor', 'donor'])"
   ]
  },
  {
   "cell_type": "markdown",
   "metadata": {},
   "source": [
    "Train the sciPENN object. Here, we ask the model to estimate quantiles 0.1, 0.25, 0.75, and 0.9. The weights directory is \"pbmc_to_pbmcINTEGRATE\""
   ]
  },
  {
   "cell_type": "code",
   "execution_count": null,
   "metadata": {
    "scrolled": true
   },
   "outputs": [],
   "source": [
    "sciPENN.train(quantiles = [0.1, 0.25, 0.75, 0.9], n_epochs = 10000, ES_max = 12, decay_max = 6, \n",
    "             decay_step = 0.1, lr = 10**(-3), weights_dir = \"pbmc_to_pbmcINTEGRATE\", load = True)"
   ]
  },
  {
   "cell_type": "markdown",
   "metadata": {},
   "source": [
    "Use the impute method to impute missing protein expression in each CITE-seq reference set. Note that this is different from the predict method, which would predict protein expression only for the gene test set and return an array with the same number of rows as the test set. The impute function returns an array of n x p, where n is the sum of the number of cells across all CITE-seq references and p is the union of the sets of proteins across al CITE-seq references. A protein will be imputed for a cell in this array only if it wasn't sequenced for that cell. Otherwise the true sequenced value is provided."
   ]
  },
  {
   "cell_type": "code",
   "execution_count": null,
   "metadata": {},
   "outputs": [],
   "source": [
    "imputed_test = sciPENN.impute()"
   ]
  },
  {
   "cell_type": "markdown",
   "metadata": {},
   "source": [
    "The integrated protein reference data is accessible via attribute X."
   ]
  },
  {
   "cell_type": "code",
   "execution_count": null,
   "metadata": {},
   "outputs": [],
   "source": [
    "imputed_test.X"
   ]
  },
  {
   "cell_type": "markdown",
   "metadata": {},
   "source": [
    "We can use the 'Dataset' cell metadata field to see which CITE-seq dataset each cell is from. Dataset 1 refers to the first CITE-seq dataset (whose gene data was the first element in the gene_trainsets list and whose protein data was the first element in the protein_trainsets list)."
   ]
  },
  {
   "cell_type": "code",
   "execution_count": null,
   "metadata": {},
   "outputs": [],
   "source": [
    "imputed_test.obs['Dataset']"
   ]
  },
  {
   "cell_type": "markdown",
   "metadata": {},
   "source": [
    "Each dataset has batches inside it. Use the 'batch' cell metadata field to see which batch a cell is from. E.g. the batch information 'DS-1 P4' means the corresponding cell is from batch P4 of dataset 1."
   ]
  },
  {
   "cell_type": "code",
   "execution_count": null,
   "metadata": {
    "scrolled": true
   },
   "outputs": [],
   "source": [
    "imputed_test.obs['batch']"
   ]
  },
  {
   "cell_type": "markdown",
   "metadata": {},
   "source": [
    "We may want a quick way to identify which proteins were sequenced for a particular dataset. The following commands demontrate how to do this."
   ]
  },
  {
   "cell_type": "code",
   "execution_count": null,
   "metadata": {},
   "outputs": [],
   "source": [
    "proteins = imputed_test.var.index\n",
    "\n",
    "proteins1 = proteins[imputed_test.var['Dataset 1']] #get proteins sequenced in Dataset 1\n",
    "proteins2 = proteins[imputed_test.var['Dataset 2']] #get proteins sequenced in Dataset 1"
   ]
  },
  {
   "cell_type": "markdown",
   "metadata": {},
   "source": [
    "Recall that the overall array (imputed_test.X) consists of both imputed and true protein values, with imputed values being used when the protein wasn't sequenced. We can separate this array into 4 subarrays:\n",
    "\n",
    "1. Imputed Protein array in Dataset 1\n",
    "2. Sequenced Protein array in Dataset 1\n",
    "3. Imputed Protein array in Dataset 2\n",
    "4. Sequenced Protein array in Dataset 2"
   ]
  },
  {
   "cell_type": "code",
   "execution_count": null,
   "metadata": {},
   "outputs": [],
   "source": [
    "ds1_cells = imputed_test.obs['Dataset'] == 'Dataset 1'\n",
    "ds2_cells = imputed_test.obs['Dataset'] == 'Dataset 2'\n",
    "\n",
    "ds1_pred, ds1_seq = np.invert(imputed_test.var['Dataset 1']), imputed_test.var['Dataset 1']\n",
    "ds2_pred, ds2_seq = np.invert(imputed_test.var['Dataset 2']), imputed_test.var['Dataset 2']\n",
    "\n",
    "pred1 = imputed_test[ds1_cells, ds1_pred] #imputed protein array in dataset 1\n",
    "sequenced1 = imputed_test[ds1_cells, ds1_seq] #sequenced protein array in dataset 1\n",
    "pred2 = imputed_test[ds2_cells, ds2_pred] #imputed protein array in dataset 2\n",
    "sequenced2 = imputed_test[ds2_cells, ds2_seq] #sequenced protein array in dataset 2"
   ]
  },
  {
   "cell_type": "markdown",
   "metadata": {},
   "source": [
    "We can embed the two references into a common latent space. The embedding process is identical to scenario 1."
   ]
  },
  {
   "cell_type": "code",
   "execution_count": null,
   "metadata": {},
   "outputs": [],
   "source": [
    "embedding = sciPENN.embed()"
   ]
  },
  {
   "cell_type": "markdown",
   "metadata": {},
   "source": [
    "Use the 'batch' cell metadata field to see which dataset and batch a cell is from. E.g.'DS-1 P4' means the corresponding cell is from batch P4 of the first CITE-seq reference. 'DS-2 P5' means the corresponding cell is from batch P5 of the first CITE-seq reference. "
   ]
  },
  {
   "cell_type": "code",
   "execution_count": null,
   "metadata": {},
   "outputs": [],
   "source": [
    "embedding.obs['batch']"
   ]
  },
  {
   "cell_type": "markdown",
   "metadata": {},
   "source": [
    "The 'Dataset' attribute is a quick way to check a cell's source dataset."
   ]
  },
  {
   "cell_type": "code",
   "execution_count": null,
   "metadata": {},
   "outputs": [],
   "source": [
    "embedding.obs['Dataset']"
   ]
  },
  {
   "cell_type": "markdown",
   "metadata": {},
   "source": [
    "We can view estimated quantiles just like in Scenario 1. Note that each quantile is estimated for all proteins in. all cells, even when the protein is sequenced in the cell. The quantiles are much more useful for proteins which needed to be imputed for a cell."
   ]
  },
  {
   "cell_type": "code",
   "execution_count": null,
   "metadata": {},
   "outputs": [],
   "source": [
    "q10_pred = imputed_test[ds1_cells, ds1_pred].layers['q10'] #get q10 for imputed proteins from reference 1\n",
    "q10_truth = imputed_test[ds1_cells, ds1_seq].layers['q10'] #get q10 for sequenced proteins from reference 1, not useful"
   ]
  }
 ],
 "metadata": {
  "kernelspec": {
   "display_name": "scipennenv",
   "language": "python",
   "name": "scipennenv"
  },
  "language_info": {
   "codemirror_mode": {
    "name": "ipython",
    "version": 3
   },
   "file_extension": ".py",
   "mimetype": "text/x-python",
   "name": "python",
   "nbconvert_exporter": "python",
   "pygments_lexer": "ipython3",
   "version": "3.10.14"
  }
 },
 "nbformat": 4,
 "nbformat_minor": 4
}
