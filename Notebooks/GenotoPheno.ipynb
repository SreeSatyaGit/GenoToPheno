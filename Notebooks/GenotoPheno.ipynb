{
 "cells": [
  {
   "cell_type": "code",
   "execution_count": 1,
   "id": "03b3b474-a019-4fdc-8b3b-88bd080041e8",
   "metadata": {},
   "outputs": [
    {
     "name": "stdout",
     "output_type": "stream",
     "text": [
      "GPU: Tesla V100-PCIE-32GB is available.\n",
      "cuda\n"
     ]
    }
   ],
   "source": [
    "import torch\n",
    "import torch.nn as nn\n",
    "import torch.optim as optim\n",
    "from torch.utils.data import DataLoader, TensorDataset\n",
    "import pandas as pd\n",
    "import numpy as np\n",
    "from sklearn.model_selection import train_test_split\n",
    "import scanpy as sc\n",
    "\n",
    "if torch.cuda.is_available():\n",
    "    print(f\"GPU: {torch.cuda.get_device_name(0)} is available.\")\n",
    "else:\n",
    "    print(\"No GPU available. Training will run on CPU.\")\n",
    "    \n",
    "device = torch.device(\"cuda\" if torch.cuda.is_available() else \"cpu\")\n",
    "print(device)\n",
    "\n",
    "\n",
    "\n"
   ]
  },
  {
   "cell_type": "code",
   "execution_count": 2,
   "id": "e94b914e-1845-484f-b5cd-c5fd1b2de8fe",
   "metadata": {},
   "outputs": [],
   "source": [
    "GeneExp = sc.read_csv('GSE100866_PBMC_vs_flow_10X-RNA_umi.csv').transpose()\n",
    "SurfaceProtein = sc.read_csv('GSE100866_PBMC_vs_flow_10X-ADT_umi.csv').transpose()"
   ]
  },
  {
   "cell_type": "code",
   "execution_count": 4,
   "id": "ee78bbdf-1d8c-4740-9c5d-d5b5da96222a",
   "metadata": {},
   "outputs": [],
   "source": [
    "from sklearn.preprocessing import minmax_scale\n",
    "GeneExp.var[\"mt\"] = GeneExp.var_names.str.startswith(\"MOUSE_\")\n",
    "#Filtering out Mouse Mitocondrial Genes\n",
    "GeneExpHuman = GeneExp[:,~GeneExp.var[\"mt\"]]\n",
    "GeneExpHumanNorm = GeneExp[:,~GeneExp.var[\"mt\"]]\n",
    "#Normalization 0 and 1\n",
    "GeneExpHumanNorm.X = minmax_scale(GeneExpHumanNorm.X, feature_range=(0, 1), axis=0)\n",
    "SurfaceProtein.X = minmax_scale(SurfaceProtein.X, feature_range=(0, 1), axis=0)\n",
    "\n"
   ]
  },
  {
   "cell_type": "code",
   "execution_count": 5,
   "id": "b7e24436-f9df-484a-ad87-5d9545a4f840",
   "metadata": {},
   "outputs": [],
   "source": [
    "X_train, X_test, y_train, y_test = train_test_split(GeneExpHumanNorm.X, SurfaceProtein.X, test_size=0.2, random_state=42)\n",
    "\n",
    "X_train_tensor = torch.tensor(X_train, dtype=torch.float32).unsqueeze(1)\n",
    "y_train_tensor = torch.tensor(y_train, dtype=torch.float32)\n",
    "X_test_tensor = torch.tensor(X_test, dtype=torch.float32).unsqueeze(1)\n",
    "y_test_tensor = torch.tensor(y_test, dtype=torch.float32)\n",
    "\n",
    "train_dataset = TensorDataset(X_train_tensor, y_train_tensor)\n",
    "train_loader = DataLoader(train_dataset, batch_size=32, shuffle=True)\n",
    "\n",
    "test_dataset = TensorDataset(X_test_tensor, y_test_tensor)\n",
    "test_loader = DataLoader(test_dataset, batch_size=32, shuffle=False)"
   ]
  },
  {
   "cell_type": "code",
   "execution_count": null,
   "id": "7051f54b-b78d-4522-8f8e-df4c23c47d38",
   "metadata": {},
   "outputs": [
    {
     "name": "stdout",
     "output_type": "stream",
     "text": [
      "Epoch 1/20, Training Loss: 1.7993671120004728, Validation Loss: 0.0088581214658916\n",
      "Epoch 2/20, Training Loss: 0.008386044597718864, Validation Loss: 0.008389950152486563\n",
      "Epoch 3/20, Training Loss: 0.008988560349680484, Validation Loss: 0.006123717748560012\n",
      "Epoch 4/20, Training Loss: 0.004796816689195111, Validation Loss: 0.006232774006202817\n",
      "Epoch 5/20, Training Loss: 0.0037295732233906167, Validation Loss: 0.005564334406517446\n",
      "Epoch 6/20, Training Loss: 0.00313830058905296, Validation Loss: 0.0058624006062746046\n",
      "Epoch 7/20, Training Loss: 0.0029117262281943114, Validation Loss: 0.00544658332131803\n",
      "Epoch 8/20, Training Loss: 0.0019509366585407405, Validation Loss: 0.005333270751871169\n",
      "Epoch 9/20, Training Loss: 0.001579398706671782, Validation Loss: 0.0054122464312240486\n",
      "Epoch 10/20, Training Loss: 0.0013752725694212132, Validation Loss: 0.005409406200051307\n",
      "Epoch 11/20, Training Loss: 0.001267264587804675, Validation Loss: 0.005533583625219762\n",
      "Epoch 12/20, Training Loss: 0.0011866123195795808, Validation Loss: 0.005459612673148513\n",
      "Epoch 13/20, Training Loss: 0.0011141539161326364, Validation Loss: 0.005546882417984306\n"
     ]
    }
   ],
   "source": [
    "#CNN MODEl\n",
    "class CNNModel(nn.Module):\n",
    "    def __init__(self, input_length):\n",
    "        super(CNNModel, self).__init__()\n",
    "        self.conv1 = nn.Conv1d(in_channels=1, out_channels=32, kernel_size=1)\n",
    "        self.pool = nn.MaxPool1d(kernel_size=1)\n",
    "        self.conv2 = nn.Conv1d(in_channels=32, out_channels=64, kernel_size=1)\n",
    "        self.conv3 = nn.Conv1d(in_channels=64, out_channels=128, kernel_size=1)\n",
    "        self.flatten = nn.Flatten()\n",
    "        self.fc1 = nn.Linear(128 * input_length, 128)\n",
    "        self.fc2 = nn.Linear(128, 64)\n",
    "        self.fc3 = nn.Linear(64, 10)\n",
    "\n",
    "    def forward(self, x):\n",
    "        x = torch.relu(self.conv1(x))\n",
    "        x = self.pool(x)\n",
    "        x = torch.relu(self.conv2(x))\n",
    "        x = self.pool(x)\n",
    "        x = torch.relu(self.conv3(x))\n",
    "        x = self.flatten(x)\n",
    "        x = torch.relu(self.fc1(x))\n",
    "        x = torch.relu(self.fc2(x))\n",
    "        x = self.fc3(x)\n",
    "        return x\n",
    "\n",
    "device = torch.device('cuda' if torch.cuda.is_available() else 'cpu')\n",
    "\n",
    "\n",
    "input_length = X_train_tensor.shape[2]\n",
    "model = CNNModel(input_length=input_length).to(device)\n",
    "criterion = nn.MSELoss()\n",
    "optimizer = optim.Adam(model.parameters(), lr=0.001)\n",
    "\n",
    "num_epochs = 20\n",
    "\n",
    "for epoch in range(num_epochs):\n",
    "    model.train()\n",
    "    running_loss = 0.0\n",
    "    for X_batch, y_batch in train_loader:\n",
    "        X_batch, y_batch = X_batch.to(device), y_batch.to(device)\n",
    "\n",
    "        optimizer.zero_grad()\n",
    "        outputs = model(X_batch)\n",
    "        loss = criterion(outputs, y_batch)\n",
    "        loss.backward()\n",
    "        optimizer.step()\n",
    "\n",
    "        running_loss += loss.item()\n",
    "    \n",
    "    model.eval()\n",
    "    validation_loss = 0.0\n",
    "    with torch.no_grad():\n",
    "        for X_batch, y_batch in test_loader:\n",
    "            X_batch, y_batch = X_batch.to(device), y_batch.to(device)\n",
    "            outputs = model(X_batch)\n",
    "            loss = criterion(outputs, y_batch)\n",
    "            validation_loss += loss.item()\n",
    "\n",
    "    print(f'Epoch {epoch+1}/{num_epochs}, Training Loss: {running_loss/len(train_loader)}, Validation Loss: {validation_loss/len(test_loader)}')\n",
    "    \n",
    "torch.save(model.state_dict(), '')\n",
    "\n",
    "print(\"Training complete and model saved.\")"
   ]
  },
  {
   "cell_type": "code",
   "execution_count": 23,
   "id": "e0afa4a8-4086-4e3a-8740-03cbebdbcab8",
   "metadata": {},
   "outputs": [],
   "source": [
    "class CNNModel(nn.Module):\n",
    "    def __init__(self, input_length):\n",
    "        super(CNNModel, self).__init__()\n",
    "        self.conv1 = nn.Conv1d(in_channels=1, out_channels=32, kernel_size=1)\n",
    "        self.pool = nn.MaxPool1d(kernel_size=1)\n",
    "        self.conv2 = nn.Conv1d(in_channels=32, out_channels=64, kernel_size=1)\n",
    "        self.conv3 = nn.Conv1d(in_channels=64, out_channels=128, kernel_size=1)\n",
    "        self.flatten = nn.Flatten()\n",
    "        self.fc1 = nn.Linear(128 * input_length, 128)\n",
    "        self.fc2 = nn.Linear(128, 64)\n",
    "        self.fc3 = nn.Linear(64, 10)\n",
    "\n",
    "    def forward(self, x):\n",
    "        x = torch.relu(self.conv1(x))\n",
    "        x = self.pool(x)\n",
    "        x = torch.relu(self.conv2(x))\n",
    "        x = self.pool(x)\n",
    "        x = torch.relu(self.conv3(x))\n",
    "        x = self.flatten(x)\n",
    "        x = torch.relu(self.fc1(x))\n",
    "        x = torch.relu(self.fc2(x))\n",
    "        x = self.fc3(x)\n",
    "        return x\n",
    "    \n",
    "model = CNNModel(X_test_tensor.shape[2])\n",
    "model.load_state_dict(torch.load('pyToch_model.cnn',map_location=torch.device('cuda' if torch.cuda.is_available() else 'cpu')))\n",
    "model.eval()\n",
    "\n",
    "y_pred = model(X_test_tensor)"
   ]
  },
  {
   "cell_type": "code",
   "execution_count": 26,
   "id": "3bf468ef-8fe1-4815-a6b6-09d08d8392eb",
   "metadata": {},
   "outputs": [
    {
     "data": {
      "text/plain": [
       "tensor([[ 0.2914,  0.3518, -0.0014,  ...,  0.0155,  0.0116,  0.0031],\n",
       "        [-0.0359, -0.0188,  0.0190,  ...,  0.0187, -0.0047,  0.1139],\n",
       "        [ 0.0827,  0.0093,  0.1911,  ...,  0.0088,  0.0158, -0.0054],\n",
       "        ...,\n",
       "        [ 0.1269,  0.0365,  0.2774,  ...,  0.0175, -0.0127,  0.0183],\n",
       "        [ 0.3086,  0.3159,  0.0773,  ...,  0.0199,  0.0237,  0.0046],\n",
       "        [ 0.0556,  0.1082,  0.0238,  ...,  0.1467,  0.1390, -0.0310]],\n",
       "       grad_fn=<AddmmBackward0>)"
      ]
     },
     "execution_count": 26,
     "metadata": {},
     "output_type": "execute_result"
    }
   ],
   "source": [
    "y_pred"
   ]
  },
  {
   "cell_type": "code",
   "execution_count": 10,
   "id": "16d044cc-8f35-4f6d-800e-283885244158",
   "metadata": {},
   "outputs": [
    {
     "name": "stdout",
     "output_type": "stream",
     "text": [
      "Epoch 1/20, Training Loss: 0.0059963228669948875, Validation Loss: 0.004267849405296147\n",
      "Epoch 2/20, Training Loss: 0.0023498309176648038, Validation Loss: 0.004231323562562466\n",
      "Epoch 3/20, Training Loss: 0.0011388072413683404, Validation Loss: 0.004346407670527697\n",
      "Epoch 4/20, Training Loss: 0.0006652786447375547, Validation Loss: 0.004586421204730868\n",
      "Epoch 5/20, Training Loss: 0.0006330406895722262, Validation Loss: 0.004345176634378731\n",
      "Epoch 6/20, Training Loss: 0.0005518805733299814, Validation Loss: 0.004299844042398035\n",
      "Epoch 7/20, Training Loss: 0.00047939546246198003, Validation Loss: 0.0043811866175383326\n",
      "Epoch 8/20, Training Loss: 0.0003932729602092877, Validation Loss: 0.004289861763827503\n",
      "Epoch 9/20, Training Loss: 0.0002983661885809852, Validation Loss: 0.004328508526086807\n",
      "Epoch 10/20, Training Loss: 0.0002479947999745491, Validation Loss: 0.004298337497748435\n",
      "Epoch 11/20, Training Loss: 0.00022868338659463915, Validation Loss: 0.004254807597026229\n",
      "Epoch 12/20, Training Loss: 0.0002436252380357473, Validation Loss: 0.004307241686619818\n",
      "Epoch 13/20, Training Loss: 0.00025359818449942394, Validation Loss: 0.004335990808904171\n",
      "Epoch 14/20, Training Loss: 0.0002534165388351539, Validation Loss: 0.004297074154019356\n",
      "Epoch 15/20, Training Loss: 0.00024000737743335777, Validation Loss: 0.004283325430005789\n",
      "Epoch 16/20, Training Loss: 0.00024917473467212404, Validation Loss: 0.004352000099606812\n",
      "Epoch 17/20, Training Loss: 0.00029050051685771907, Validation Loss: 0.0042750257533043625\n",
      "Epoch 18/20, Training Loss: 0.00025683962729090127, Validation Loss: 0.004276754814200103\n",
      "Epoch 19/20, Training Loss: 0.0002422989184196922, Validation Loss: 0.004335944037884474\n",
      "Epoch 20/20, Training Loss: 0.0002245491293433588, Validation Loss: 0.004239350515417755\n",
      "Training complete and model saved.\n"
     ]
    }
   ],
   "source": [
    "#FeedForward Network\n",
    "class FeedForward(nn.Module):\n",
    "    def __init__(self, input_length):\n",
    "        super(FeedForward, self).__init__()\n",
    "        self.fc1 = nn.Linear(input_length, 128)\n",
    "        self.fc2 = nn.Linear(128, 64)\n",
    "        self.fc3 = nn.Linear(64, 10)\n",
    "\n",
    "    def forward(self, x):\n",
    "        x = torch.relu(self.fc1(x))\n",
    "        x = torch.relu(self.fc2(x))\n",
    "        x = self.fc3(x)\n",
    "        return x\n",
    "\n",
    "device = torch.device('cuda' if torch.cuda.is_available() else 'cpu')\n",
    "\n",
    "# Assuming X_train_tensor is already defined and loaded\n",
    "input_length = X_train_tensor.shape[1] * X_train_tensor.shape[2]  # Flatten the input dimensions\n",
    "model = FeedForward(input_length=input_length).to(device)\n",
    "criterion = nn.MSELoss()\n",
    "optimizer = optim.Adam(model.parameters(), lr=0.001)\n",
    "\n",
    "num_epochs = 20\n",
    "\n",
    "for epoch in range(num_epochs):\n",
    "    model.train()\n",
    "    running_loss = 0.0\n",
    "    for X_batch, y_batch in train_loader:\n",
    "        X_batch, y_batch = X_batch.to(device), y_batch.to(device)\n",
    "        \n",
    "        # Flatten the input batch to (batch_size, input_length)\n",
    "        X_batch = X_batch.view(X_batch.size(0), -1)\n",
    "\n",
    "        optimizer.zero_grad()\n",
    "        outputs = model(X_batch)\n",
    "        loss = criterion(outputs, y_batch)\n",
    "        loss.backward()\n",
    "        optimizer.step()\n",
    "\n",
    "        running_loss += loss.item()\n",
    "    \n",
    "    model.eval()\n",
    "    validation_loss = 0.0\n",
    "    with torch.no_grad():\n",
    "        for X_batch, y_batch in test_loader:\n",
    "            X_batch, y_batch = X_batch.to(device), y_batch.to(device)\n",
    "            \n",
    "            # Flatten the input batch to (batch_size, input_length)\n",
    "            X_batch = X_batch.view(X_batch.size(0), -1)\n",
    "\n",
    "            outputs = model(X_batch)\n",
    "            loss = criterion(outputs, y_batch)\n",
    "            validation_loss += loss.item()\n",
    "\n",
    "    print(f'Epoch {epoch+1}/{num_epochs}, Training Loss: {running_loss/len(train_loader)}, Validation Loss: {validation_loss/len(test_loader)}')\n",
    "\n",
    "# Specify the model saving path\n",
    "torch.save(model.state_dict(), 'feedforward_model.pth')\n",
    "\n",
    "print(\"Training complete and model saved.\")\n"
   ]
  },
  {
   "cell_type": "code",
   "execution_count": 12,
   "id": "326badf5-7f8c-4bd7-b616-64a49ae8a686",
   "metadata": {},
   "outputs": [],
   "source": [
    "class FeedForward(nn.Module):\n",
    "    def __init__(self, input_length):\n",
    "        super(FeedForward, self).__init__()\n",
    "        self.fc1 = nn.Linear(input_length, 128)\n",
    "        self.fc2 = nn.Linear(128, 64)\n",
    "        self.fc3 = nn.Linear(64, 10)\n",
    "\n",
    "    def forward(self, x):\n",
    "        x = torch.relu(self.fc1(x))\n",
    "        x = torch.relu(self.fc2(x))\n",
    "        x = self.fc3(x)\n",
    "        return x\n",
    "\n",
    "model = FeedForward(X_test_tensor.shape[2])\n",
    "model.load_state_dict(torch.load('feedforward_model.pth',map_location=torch.device('cuda' if torch.cuda.is_available() else 'cpu')))\n",
    "model.eval()\n",
    "\n",
    "y_pred = model(X_test_tensor)"
   ]
  },
  {
   "cell_type": "code",
   "execution_count": 13,
   "id": "ced8a89b-f23d-4445-96ce-4bdf7f863681",
   "metadata": {},
   "outputs": [
    {
     "data": {
      "text/plain": [
       "tensor([[[ 0.3367,  0.3662, -0.0190,  ...,  0.0150,  0.0135, -0.0021]],\n",
       "\n",
       "        [[ 0.0114,  0.0065, -0.0047,  ...,  0.0093,  0.0149,  0.0643]],\n",
       "\n",
       "        [[ 0.1030,  0.0091,  0.1599,  ...,  0.0145,  0.0064,  0.0054]],\n",
       "\n",
       "        ...,\n",
       "\n",
       "        [[ 0.1303,  0.0265,  0.2505,  ...,  0.0192,  0.0087, -0.0028]],\n",
       "\n",
       "        [[ 0.2292,  0.3446,  0.0068,  ...,  0.0283,  0.0108,  0.0016]],\n",
       "\n",
       "        [[ 0.0323,  0.0752,  0.0078,  ...,  0.1811,  0.1622, -0.0044]]],\n",
       "       grad_fn=<ViewBackward0>)"
      ]
     },
     "execution_count": 13,
     "metadata": {},
     "output_type": "execute_result"
    }
   ],
   "source": [
    "y_pred # FF_output"
   ]
  },
  {
   "cell_type": "code",
   "execution_count": null,
   "id": "bb37c977-170d-4dc6-809b-730ecc77e0f2",
   "metadata": {},
   "outputs": [],
   "source": []
  }
 ],
 "metadata": {
  "kernelspec": {
   "display_name": "scipennenv",
   "language": "python",
   "name": "scipennenv"
  },
  "language_info": {
   "name": "python",
   "version": "3.10.14"
  }
 },
 "nbformat": 4,
 "nbformat_minor": 5
}
